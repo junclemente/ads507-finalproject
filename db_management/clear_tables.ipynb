{
 "cells": [
  {
   "cell_type": "markdown",
   "metadata": {},
   "source": [
    "# Washington State DOT Traffic API\n",
    "\n",
    "source: [https://wsdot.wa.gov/traffic/api](https://wsdot.wa.gov/traffic/api)\n"
   ]
  },
  {
   "cell_type": "code",
   "execution_count": 12,
   "metadata": {},
   "outputs": [],
   "source": [
    "import pandas as pd\n",
    "import json\n",
    "import os\n",
    "import requests\n",
    "\n",
    "from dotenv import load_dotenv\n",
    "from pathlib import Path\n",
    "from sqlalchemy import create_engine, text"
   ]
  },
  {
   "cell_type": "markdown",
   "metadata": {},
   "source": [
    "## Import env variables\n"
   ]
  },
  {
   "cell_type": "code",
   "execution_count": 13,
   "metadata": {},
   "outputs": [],
   "source": [
    "# load the .env file\n",
    "load_dotenv()\n",
    "\n",
    "# API variables\n",
    "api_key = os.getenv(\"API_KEY\")\n",
    "\n",
    "# MySQL database variables\n",
    "db_user = os.getenv(\"AZURE_USERNAME\")\n",
    "db_pwd = os.getenv(\"AZURE_PWD\")\n",
    "db_host = os.getenv(\"AZURE_URL\")\n",
    "db_port = os.getenv(\"AZURE_PORT\")\n",
    "db_database = os.getenv(\"AZURE_DB\")\n",
    "\n",
    "# print(api_key)"
   ]
  },
  {
   "cell_type": "code",
   "execution_count": 17,
   "metadata": {},
   "outputs": [],
   "source": [
    "# truncate a table in the database\n",
    "def truncate_table(table_name, engine):\n",
    "    with engine.connect() as connection:\n",
    "        connection.execute(text(f\"TRUNCATE TABLE {table_name}\"))\n",
    "        connection.commit()\n",
    "        print(f\"Table {table_name} truncated successfully.\")"
   ]
  },
  {
   "cell_type": "markdown",
   "metadata": {},
   "source": [
    "## Clear tables\n"
   ]
  },
  {
   "cell_type": "code",
   "execution_count": 23,
   "metadata": {},
   "outputs": [],
   "source": [
    "list_of_tables = [\n",
    "    \"api_fetch\",\n",
    "    \"time_travel_raw\",\n",
    "    \"traffic_alerts_raw\",\n",
    "    \"weather_alerts_raw\",\n",
    "]\n",
    "\n",
    "\n",
    "def clear_tables(table_list):\n",
    "    # Connect to database\n",
    "    connection_url = (\n",
    "        f\"mysql+pymysql://{db_user}:{db_pwd}\" f\"@{db_host}:{db_port}/{db_database}\"\n",
    "    )\n",
    "\n",
    "    try:\n",
    "        engine = create_engine(connection_url)\n",
    "        with engine.connect() as conn:\n",
    "            print(\"Connection successful!\")\n",
    "\n",
    "            for table in table_list:\n",
    "                truncate_table(table, engine)\n",
    "    except Exception as e:\n",
    "        print(f\"Database error: {e}\")\n",
    "\n",
    "\n",
    "clear_tables()"
   ]
  }
 ],
 "metadata": {
  "kernelspec": {
   "display_name": "ads507",
   "language": "python",
   "name": "python3"
  },
  "language_info": {
   "codemirror_mode": {
    "name": "ipython",
    "version": 3
   },
   "file_extension": ".py",
   "mimetype": "text/x-python",
   "name": "python",
   "nbconvert_exporter": "python",
   "pygments_lexer": "ipython3",
   "version": "3.12.8"
  }
 },
 "nbformat": 4,
 "nbformat_minor": 2
}
