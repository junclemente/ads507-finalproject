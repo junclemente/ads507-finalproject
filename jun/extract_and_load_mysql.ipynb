{
 "cells": [
  {
   "cell_type": "markdown",
   "metadata": {},
   "source": [
    "# Washington State DOT Traffic API\n",
    "\n",
    "source: [https://wsdot.wa.gov/traffic/api](https://wsdot.wa.gov/traffic/api)"
   ]
  },
  {
   "cell_type": "code",
   "execution_count": 43,
   "metadata": {},
   "outputs": [],
   "source": [
    "import pandas as pd\n",
    "import json\n",
    "import logging\n",
    "import os\n",
    "import requests\n",
    "\n",
    "from dotenv import load_dotenv\n",
    "from time import sleep\n",
    "from sqlalchemy import create_engine, text"
   ]
  },
  {
   "cell_type": "markdown",
   "metadata": {},
   "source": [
    "## Import env variables"
   ]
  },
  {
   "cell_type": "code",
   "execution_count": 6,
   "metadata": {},
   "outputs": [],
   "source": [
    "# load the .env file\n",
    "load_dotenv()\n",
    "\n",
    "# API variables\n",
    "api_key = os.getenv(\"API_KEY\")\n",
    "\n",
    "# MySQL database variables\n",
    "db_user = os.getenv(\"AZURE_USERNAME\")\n",
    "db_pwd = os.getenv(\"AZURE_PWD\")\n",
    "db_host = os.getenv(\"AZURE_URL\")\n",
    "db_port = os.getenv(\"AZURE_PORT\")\n",
    "db_database = os.getenv(\"AZURE_DB\")"
   ]
  },
  {
   "cell_type": "markdown",
   "metadata": {},
   "source": [
    "## URLs to Acces APIs"
   ]
  },
  {
   "cell_type": "code",
   "execution_count": 7,
   "metadata": {},
   "outputs": [],
   "source": [
    "TRAVEL_TIMES_URL = \"http://wsdot.wa.gov/Traffic/api/TravelTimes/TravelTimesREST.svc/GetTravelTimesAsJson?AccessCode={ACCESSCODE}\"\n",
    "\n",
    "TRAFFIC_ALERTS_URL = \"http://www.wsdot.wa.gov/Traffic/api/HighwayAlerts/HighwayAlertsREST.svc/GetAlertsAsJson?AccessCode={ACCESSCODE}\"\n",
    "\n",
    "WEATHER_INFORMATION_URL = \"http://wsdot.wa.gov/Traffic/api/WeatherInformation/WeatherInformationREST.svc/GetCurrentWeatherInformationAsJson?AccessCode={ACCESSCODE}\""
   ]
  },
  {
   "cell_type": "code",
   "execution_count": 16,
   "metadata": {},
   "outputs": [],
   "source": [
    "# customer function to get api data\n",
    "def get_api_data(url, access_key):\n",
    "    # create the url with the access key\n",
    "    url_api = url.format(ACCESSCODE=access_key)\n",
    "    response = requests.get(url_api)\n",
    "\n",
    "    # check if request was successful\n",
    "    if response.status_code == 200:\n",
    "        # print(\"Data fetched successfully.\")\n",
    "        data = response.json()\n",
    "        df = pd.DataFrame(data)\n",
    "    else:\n",
    "        print(f\"Failed to fetch data. Status code: {response.status_code}\")\n",
    "\n",
    "    # return the dataframe and the status code\n",
    "    return df, response.status_code\n",
    "\n",
    "\n",
    "# function to convert dictionary columns from api to json\n",
    "def convert_dict_to_json(dataframe):\n",
    "\n",
    "    for col in dataframe.columns:\n",
    "        if dataframe[col].apply(lambda x: isinstance(x, dict)).all():\n",
    "            dataframe[col] = dataframe[col].apply(lambda x: json.dumps(x))"
   ]
  },
  {
   "cell_type": "code",
   "execution_count": 41,
   "metadata": {},
   "outputs": [],
   "source": [
    "# def upload_to_history_table(dataframe, table_name, conn):\n",
    "\n",
    "#     try:\n",
    "#         dataframe.to_sql(\n",
    "#             table_name,\n",
    "#             con=conn,\n",
    "#             if_exists=\"append\",\n",
    "#             index=False,\n",
    "#         )\n",
    "#         print(f\"{table_name} uploaded successfully.\")\n",
    "#     except Exception as e:\n",
    "#         print(f\"Failed to upload {table_name}. Error: {e}\")\n",
    "\n",
    "\n",
    "# def update_raw_table(dataframe, table_name, conn):\n",
    "\n",
    "#     try:\n",
    "#         dataframe.to_sql(\n",
    "#             table_name,\n",
    "#             con=conn,\n",
    "#             if_exists=\"replace\",\n",
    "#             index=False,\n",
    "#         )\n",
    "#         print(f\"{table_name} uploaded successfully.\")\n",
    "#     except Exception as e:\n",
    "#         print(f\"Failed to upload {table_name}. Error: {e}\")\n",
    "\n",
    "\n",
    "def upload_dataframe(dataframe, table_name, conn, mode=\"append\"):\n",
    "    try:\n",
    "        dataframe.to_sql(\n",
    "            table_name,\n",
    "            con=conn,\n",
    "            if_exists=mode,\n",
    "            index=False,\n",
    "        )\n",
    "        logging.info(f\"{table_name} ({mode}) uploaded successfully.\")\n",
    "    except Exception as e:\n",
    "        logging.error(f\"Failed to upload {table_name}. Error: {e}\")"
   ]
  },
  {
   "cell_type": "code",
   "execution_count": 20,
   "metadata": {},
   "outputs": [],
   "source": [
    "# function to get api data\n",
    "def api_update(\n",
    "    travel_times_url, traffic_alerts_url, weather_information_url, access_key\n",
    "):\n",
    "\n",
    "    # Get current time\n",
    "    timestamp = pd.Timestamp.now()\n",
    "    df_tt, response_tt = get_api_data(travel_times_url, access_key)\n",
    "    df_ta, response_ta = get_api_data(traffic_alerts_url, access_key)\n",
    "    df_wa, response_wa = get_api_data(weather_information_url, access_key)\n",
    "\n",
    "    if response_tt == 200 and response_ta == 200 and response_wa == 200:\n",
    "        status = \"Success\"\n",
    "    else:\n",
    "        status = \"Failed\"\n",
    "\n",
    "    # add pull_date_time\n",
    "    df_tt[\"timestamp\"] = timestamp\n",
    "    df_ta[\"timestamp\"] = timestamp\n",
    "    df_wa[\"timestamp\"] = timestamp\n",
    "\n",
    "    # convert dict columns to json\n",
    "    convert_dict_to_json(df_tt)\n",
    "    convert_dict_to_json(df_ta)\n",
    "    convert_dict_to_json(df_wa)\n",
    "\n",
    "    df_api_fetch = pd.DataFrame(\n",
    "        [\n",
    "            {\n",
    "                \"timestamp\": timestamp,\n",
    "                \"travel_times_response\": response_tt,\n",
    "                \"traffic_alerts_response\": response_ta,\n",
    "                \"weather_alerts_response\": response_wa,\n",
    "                \"status\": status,\n",
    "            }\n",
    "        ]\n",
    "    )\n",
    "\n",
    "    return df_api_fetch, df_tt, df_ta, df_wa, status"
   ]
  },
  {
   "cell_type": "markdown",
   "metadata": {},
   "source": [
    "# Extract and Load"
   ]
  },
  {
   "cell_type": "code",
   "execution_count": 44,
   "metadata": {},
   "outputs": [
    {
     "name": "stdout",
     "output_type": "stream",
     "text": [
      "*** Connected to database ***\n",
      "*** Appending to history tables ***\n",
      "*** Updating raw tables ***\n",
      "Database operation failed:  (pymysql.err.OperationalError) (1054, \"Unknown column 'raw.id' in 'field list'\")\n",
      "[SQL: CALL TransformWeatherAlerts]\n",
      "(Background on this error at: https://sqlalche.me/e/20/e3q8)\n"
     ]
    }
   ],
   "source": [
    "def extract_load_transform():\n",
    "    SLEEP_TIME = 5\n",
    "\n",
    "    try:\n",
    "        # fetch data\n",
    "        df_api_fetch, df_tt, df_ta, df_wa, status = api_update(\n",
    "            TRAVEL_TIMES_URL, TRAFFIC_ALERTS_URL, WEATHER_INFORMATION_URL, api_key\n",
    "        )\n",
    "\n",
    "        # connect to dateabase\n",
    "        connection_url = (\n",
    "            f\"mysql+pymysql://{db_user}:{db_pwd}\" f\"@{db_host}:{db_port}/{db_database}\"\n",
    "        )\n",
    "        engine = create_engine(connection_url)\n",
    "\n",
    "        with engine.connect() as conn:\n",
    "            print(\"*** Connected to database ***\")\n",
    "\n",
    "            # Append history tables\n",
    "            print(\"*** Appending to history tables ***\")\n",
    "            history_tables = {\n",
    "                \"api_fetch_hist\": df_api_fetch,\n",
    "                \"time_travel_hist\": df_tt,\n",
    "                \"traffic_alerts_hist\": df_ta,\n",
    "                \"weather_alerts_hist\": df_wa,\n",
    "            }\n",
    "            for table, df in history_tables.items():\n",
    "                upload_dataframe(df, table, conn, \"append\")\n",
    "\n",
    "            if status != \"Success\":\n",
    "                logging.warning(\n",
    "                    \"API update was unsuccessful. Skipping raw table updates.\"\n",
    "                )\n",
    "                return None\n",
    "\n",
    "            # Update raw tables\n",
    "            print(\"*** Updating raw tables ***\")\n",
    "            raw_tables = {\n",
    "                \"api_fetch\": df_api_fetch,\n",
    "                \"time_travel_raw\": df_tt,\n",
    "                \"traffic_alerts_raw\": df_ta,\n",
    "                \"weather_alerts_raw\": df_wa,\n",
    "            }\n",
    "            for table, df in raw_tables.items():\n",
    "                upload_dataframe(df, table, conn, \"replace\")\n",
    "\n",
    "            # Wait before calling stored procedures\n",
    "            sleep(SLEEP_TIME)\n",
    "\n",
    "            # Call stored procedures\n",
    "            stored_procedures = [\n",
    "                \"CALL TransformTravelTime\",\n",
    "                \"CALL TransformTrafficAlerts\",\n",
    "                \"CALL TransformWeatherAlerts\",\n",
    "            ]\n",
    "            results = [conn.execute(text(sp)) for sp in stored_procedures]\n",
    "\n",
    "            # Print results\n",
    "            for sp, result in zip(stored_procedures, results):\n",
    "                print(f\"{sp} result: {result}\")\n",
    "\n",
    "    except Exception as e:\n",
    "        print(\"Database operation failed: \", e)\n",
    "        return None\n",
    "\n",
    "    return None\n",
    "\n",
    "\n",
    "extract_load_transform()"
   ]
  },
  {
   "cell_type": "code",
   "execution_count": null,
   "metadata": {},
   "outputs": [],
   "source": []
  }
 ],
 "metadata": {
  "kernelspec": {
   "display_name": "ads507",
   "language": "python",
   "name": "python3"
  },
  "language_info": {
   "codemirror_mode": {
    "name": "ipython",
    "version": 3
   },
   "file_extension": ".py",
   "mimetype": "text/x-python",
   "name": "python",
   "nbconvert_exporter": "python",
   "pygments_lexer": "ipython3",
   "version": "3.12.8"
  }
 },
 "nbformat": 4,
 "nbformat_minor": 2
}
