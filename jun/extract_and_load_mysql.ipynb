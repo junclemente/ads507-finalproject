{
 "cells": [
  {
   "cell_type": "markdown",
   "metadata": {},
   "source": [
    "# Washington State DOT Traffic API\n",
    "\n",
    "source: [https://wsdot.wa.gov/traffic/api](https://wsdot.wa.gov/traffic/api)\n"
   ]
  },
  {
   "cell_type": "code",
   "execution_count": 1,
   "metadata": {},
   "outputs": [],
   "source": [
    "import pandas as pd\n",
    "import json\n",
    "import logging\n",
    "import os\n",
    "import requests\n",
    "\n",
    "from dotenv import load_dotenv\n",
    "from time import sleep\n",
    "from sqlalchemy import create_engine, text"
   ]
  },
  {
   "cell_type": "markdown",
   "metadata": {},
   "source": [
    "## Import env variables\n"
   ]
  },
  {
   "cell_type": "code",
   "execution_count": 2,
   "metadata": {},
   "outputs": [],
   "source": [
    "# load the .env file\n",
    "load_dotenv()\n",
    "\n",
    "# API variables\n",
    "api_key = os.getenv(\"API_KEY\")\n",
    "\n",
    "# MySQL database variables\n",
    "db_user = os.getenv(\"AZURE_USERNAME\")\n",
    "db_pwd = os.getenv(\"AZURE_PWD\")\n",
    "db_host = os.getenv(\"AZURE_URL\")\n",
    "db_port = os.getenv(\"AZURE_PORT\")\n",
    "db_database = os.getenv(\"AZURE_DB\")"
   ]
  },
  {
   "cell_type": "markdown",
   "metadata": {},
   "source": [
    "## URLs to Acces APIs\n"
   ]
  },
  {
   "cell_type": "code",
   "execution_count": 3,
   "metadata": {},
   "outputs": [],
   "source": [
    "TRAVEL_TIMES_URL = \"http://wsdot.wa.gov/Traffic/api/TravelTimes/TravelTimesREST.svc/GetTravelTimesAsJson?AccessCode={ACCESSCODE}\"\n",
    "\n",
    "TRAFFIC_ALERTS_URL = \"http://www.wsdot.wa.gov/Traffic/api/HighwayAlerts/HighwayAlertsREST.svc/GetAlertsAsJson?AccessCode={ACCESSCODE}\"\n",
    "\n",
    "WEATHER_INFORMATION_URL = \"http://wsdot.wa.gov/Traffic/api/WeatherInformation/WeatherInformationREST.svc/GetCurrentWeatherInformationAsJson?AccessCode={ACCESSCODE}\""
   ]
  },
  {
   "cell_type": "code",
   "execution_count": 4,
   "metadata": {},
   "outputs": [],
   "source": [
    "# Database engine\n",
    "connection_url = (\n",
    "    f\"mysql+pymysql://{db_user}:{db_pwd}\" f\"@{db_host}:{db_port}/{db_database}\"\n",
    ")\n",
    "engine = create_engine(connection_url)"
   ]
  },
  {
   "cell_type": "code",
   "execution_count": 5,
   "metadata": {},
   "outputs": [],
   "source": [
    "# Custom logging handler\n",
    "class MySQLLogHandler(logging.Handler):\n",
    "\n",
    "    def __init__(self, db_engine):\n",
    "        super().__init__()\n",
    "        self.engine = db_engine\n",
    "        self.formatter = logging.Formatter(\"%(asctime)s - %(levelname)s - %(message)s\")\n",
    "\n",
    "    def emit(self, record):\n",
    "        \"\"\"Inserts log records into MySQL in real time.\"\"\"\n",
    "        try:\n",
    "            # log_time = self.formatter.formatTime(record, self.formatter.datefmt)\n",
    "            log_level = record.levelname\n",
    "            log_message = self.format(record)\n",
    "\n",
    "            with self.engine.begin() as conn:\n",
    "                query = \"\"\"\n",
    "                    INSERT INTO application_logs (log_timestamp, log_level, log_message)\n",
    "                    VALUES (NOW(), :log_level, :log_message)\n",
    "                \"\"\"\n",
    "                conn.execute(\n",
    "                    text(query), {\"log_level\": log_level, \"log_message\": log_message}\n",
    "                )\n",
    "        except Exception as e:\n",
    "            print(f\"Failed to insert log into MySQL: {e}\")"
   ]
  },
  {
   "cell_type": "code",
   "execution_count": 6,
   "metadata": {},
   "outputs": [],
   "source": [
    "logging.basicConfig(\n",
    "    level=logging.INFO,\n",
    "    format=\"%(asctime)s - %(levelname)s - %(message)s\",\n",
    "    handlers=[\n",
    "        MySQLLogHandler(engine),\n",
    "        # logging.FileHandler(\"app.log\"),\n",
    "        logging.StreamHandler(),\n",
    "    ],\n",
    "    force=True,\n",
    ")"
   ]
  },
  {
   "cell_type": "code",
   "execution_count": 7,
   "metadata": {},
   "outputs": [],
   "source": [
    "# customer function to get api data\n",
    "def get_api_data(url, access_key):\n",
    "    # create the url with the access key\n",
    "    url_api = url.format(ACCESSCODE=access_key)\n",
    "    response = requests.get(url_api)\n",
    "\n",
    "    # check if request was successful\n",
    "    if response.status_code == 200:\n",
    "        logging.info(\"Data fetched successfully.\")\n",
    "        data = response.json()\n",
    "        df = pd.DataFrame(data)\n",
    "    else:\n",
    "        logging.error(f\"Failed to fetch data. Status code: {response.status_code}\")\n",
    "\n",
    "    # return the dataframe and the status code\n",
    "    return df, response.status_code\n",
    "\n",
    "\n",
    "# function to convert dictionary columns from api to json\n",
    "def convert_dict_to_json(dataframe):\n",
    "\n",
    "    for col in dataframe.columns:\n",
    "        if dataframe[col].apply(lambda x: isinstance(x, dict)).all():\n",
    "            dataframe[col] = dataframe[col].apply(lambda x: json.dumps(x))"
   ]
  },
  {
   "cell_type": "code",
   "execution_count": 8,
   "metadata": {},
   "outputs": [],
   "source": [
    "def upload_dataframe(dataframe, table_name, conn, mode=\"append\"):\n",
    "    try:\n",
    "        dataframe.to_sql(\n",
    "            table_name,\n",
    "            con=conn,\n",
    "            if_exists=mode,\n",
    "            index=False,\n",
    "        )\n",
    "        logging.info(f\"{table_name} ({mode}) uploaded successfully.\")\n",
    "    except Exception as e:\n",
    "        logging.error(f\"Failed to upload {table_name}. Error: {e}\")"
   ]
  },
  {
   "cell_type": "code",
   "execution_count": 9,
   "metadata": {},
   "outputs": [],
   "source": [
    "# function to get api data\n",
    "def api_update(\n",
    "    travel_times_url, traffic_alerts_url, weather_information_url, access_key\n",
    "):\n",
    "\n",
    "    # Get current time\n",
    "    timestamp = pd.Timestamp.now()\n",
    "    df_tt, response_tt = get_api_data(travel_times_url, access_key)\n",
    "    df_ta, response_ta = get_api_data(traffic_alerts_url, access_key)\n",
    "    df_wa, response_wa = get_api_data(weather_information_url, access_key)\n",
    "\n",
    "    if response_tt == 200 and response_ta == 200 and response_wa == 200:\n",
    "        status = \"Success\"\n",
    "        logging.info(status)\n",
    "    else:\n",
    "        status = \"Failed\"\n",
    "        logging.error(status)\n",
    "\n",
    "    # add pull_date_time\n",
    "    df_tt[\"timestamp\"] = timestamp\n",
    "    df_ta[\"timestamp\"] = timestamp\n",
    "    df_wa[\"timestamp\"] = timestamp\n",
    "\n",
    "    # convert dict columns to json\n",
    "    convert_dict_to_json(df_tt)\n",
    "    convert_dict_to_json(df_ta)\n",
    "    convert_dict_to_json(df_wa)\n",
    "\n",
    "    df_api_fetch = pd.DataFrame(\n",
    "        [\n",
    "            {\n",
    "                \"timestamp\": timestamp,\n",
    "                \"travel_times_response\": response_tt,\n",
    "                \"traffic_alerts_response\": response_ta,\n",
    "                \"weather_alerts_response\": response_wa,\n",
    "                \"status\": status,\n",
    "            }\n",
    "        ]\n",
    "    )\n",
    "\n",
    "    return df_api_fetch, df_tt, df_ta, df_wa, status"
   ]
  },
  {
   "cell_type": "markdown",
   "metadata": {},
   "source": [
    "# Extract and Load\n"
   ]
  },
  {
   "cell_type": "code",
   "execution_count": 10,
   "metadata": {},
   "outputs": [
    {
     "name": "stderr",
     "output_type": "stream",
     "text": [
      "2025-02-15 13:10:57,542 - INFO - Data fetched successfully.\n",
      "2025-02-15 13:10:57,224 - INFO - Data fetched successfully.\n",
      "2025-02-15 13:10:57,949 - INFO - Data fetched successfully.\n",
      "2025-02-15 13:10:58,130 - INFO - Success\n",
      "2025-02-15 13:10:58,307 - INFO - *** Connected to database ***\n",
      "2025-02-15 13:10:58,844 - INFO - *** Appending to history tables ***\n",
      "2025-02-15 13:10:59,226 - INFO - api_fetch_hist (append) uploaded successfully.\n",
      "2025-02-15 13:10:59,675 - INFO - time_travel_hist (append) uploaded successfully.\n",
      "2025-02-15 13:11:00,022 - INFO - traffic_alerts_hist (append) uploaded successfully.\n",
      "2025-02-15 13:11:00,352 - INFO - weather_alerts_hist (append) uploaded successfully.\n",
      "2025-02-15 13:11:00,534 - INFO - *** Updating raw tables ***\n",
      "2025-02-15 13:11:01,318 - INFO - api_fetch (replace) uploaded successfully.\n",
      "2025-02-15 13:11:02,179 - INFO - time_travel_raw (replace) uploaded successfully.\n",
      "2025-02-15 13:11:02,990 - INFO - traffic_alerts_raw (replace) uploaded successfully.\n",
      "2025-02-15 13:11:03,794 - INFO - weather_alerts_raw (replace) uploaded successfully.\n",
      "2025-02-15 13:11:09,610 - INFO - CALL TransformTravelTime result: <sqlalchemy.engine.cursor.CursorResult object at 0x7feee12f7f40>\n",
      "2025-02-15 13:11:09,785 - INFO - CALL TransformTrafficAlerts result: <sqlalchemy.engine.cursor.CursorResult object at 0x7feee13c32e0>\n",
      "2025-02-15 13:11:09,964 - INFO - CALL TransformWeatherAlerts result: <sqlalchemy.engine.cursor.CursorResult object at 0x7feee1374460>\n"
     ]
    }
   ],
   "source": [
    "def extract_load_transform():\n",
    "    SLEEP_TIME = 5\n",
    "\n",
    "    try:\n",
    "        # fetch data\n",
    "        df_api_fetch, df_tt, df_ta, df_wa, status = api_update(\n",
    "            TRAVEL_TIMES_URL, TRAFFIC_ALERTS_URL, WEATHER_INFORMATION_URL, api_key\n",
    "        )\n",
    "\n",
    "        # connect to database\n",
    "        with engine.connect() as conn:\n",
    "            logging.info(\"*** Connected to database ***\")\n",
    "\n",
    "            # Append history tables\n",
    "            logging.info(\"*** Appending to history tables ***\")\n",
    "            history_tables = {\n",
    "                \"api_fetch_hist\": df_api_fetch,\n",
    "                \"time_travel_hist\": df_tt,\n",
    "                \"traffic_alerts_hist\": df_ta,\n",
    "                \"weather_alerts_hist\": df_wa,\n",
    "            }\n",
    "            for table, df in history_tables.items():\n",
    "                upload_dataframe(df, table, conn, \"append\")\n",
    "\n",
    "            if status != \"Success\":\n",
    "                logging.warning(\n",
    "                    \"API update was unsuccessful. Skipping raw table updates.\"\n",
    "                )\n",
    "                return None\n",
    "\n",
    "            # Update raw tables\n",
    "            logging.info(\"*** Updating raw tables ***\")\n",
    "            raw_tables = {\n",
    "                \"api_fetch\": df_api_fetch,\n",
    "                \"time_travel_raw\": df_tt,\n",
    "                \"traffic_alerts_raw\": df_ta,\n",
    "                \"weather_alerts_raw\": df_wa,\n",
    "            }\n",
    "            for table, df in raw_tables.items():\n",
    "                upload_dataframe(df, table, conn, \"replace\")\n",
    "\n",
    "            # Wait before calling stored procedures\n",
    "            sleep(SLEEP_TIME)\n",
    "\n",
    "            # Call stored procedures\n",
    "            stored_procedures = [\n",
    "                \"CALL TransformTravelTime\",\n",
    "                \"CALL TransformTrafficAlerts\",\n",
    "                \"CALL TransformWeatherAlerts\",\n",
    "            ]\n",
    "            results = [conn.execute(text(sp)) for sp in stored_procedures]\n",
    "\n",
    "            # Print results\n",
    "            for sp, result in zip(stored_procedures, results):\n",
    "                logging.info(f\"{sp} result: {result}\")\n",
    "\n",
    "    except Exception as e:\n",
    "        logging.info(\"Database operation failed: \", e)\n",
    "        return None\n",
    "\n",
    "    return None\n",
    "\n",
    "\n",
    "extract_load_transform()"
   ]
  },
  {
   "cell_type": "code",
   "execution_count": null,
   "metadata": {},
   "outputs": [],
   "source": []
  }
 ],
 "metadata": {
  "kernelspec": {
   "display_name": "ads507",
   "language": "python",
   "name": "python3"
  },
  "language_info": {
   "codemirror_mode": {
    "name": "ipython",
    "version": 3
   },
   "file_extension": ".py",
   "mimetype": "text/x-python",
   "name": "python",
   "nbconvert_exporter": "python",
   "pygments_lexer": "ipython3",
   "version": "3.10.16"
  }
 },
 "nbformat": 4,
 "nbformat_minor": 2
}
