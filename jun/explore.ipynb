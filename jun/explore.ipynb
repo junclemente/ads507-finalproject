{
 "cells": [
  {
   "cell_type": "markdown",
   "metadata": {},
   "source": [
    "# Washington DOT Traffic API"
   ]
  },
  {
   "cell_type": "code",
   "execution_count": 8,
   "metadata": {},
   "outputs": [],
   "source": [
    "import pandas as pd\n",
    "\n",
    "import requests"
   ]
  },
  {
   "cell_type": "markdown",
   "metadata": {},
   "source": [
    "## Import env variables"
   ]
  },
  {
   "cell_type": "code",
   "execution_count": 10,
   "metadata": {},
   "outputs": [],
   "source": [
    "from dotenv import load_dotenv\n",
    "import os\n",
    "\n",
    "# load the .env file\n",
    "load_dotenv()\n",
    "\n",
    "# access the env variables\n",
    "api_key = os.getenv(\"API_KEY\")\n",
    "db_url = os.getenv(\"DATABASE_URL\")\n",
    "\n",
    "# print to verify\n",
    "# print(f\"API Key: {api_key}\")\n",
    "# print(f\"Database URL: {db_url}\")"
   ]
  },
  {
   "cell_type": "markdown",
   "metadata": {},
   "source": [
    "## Get API data"
   ]
  },
  {
   "cell_type": "code",
   "execution_count": 6,
   "metadata": {},
   "outputs": [
    {
     "name": "stdout",
     "output_type": "stream",
     "text": [
      "Data fetched successfully.\n"
     ]
    }
   ],
   "source": [
    "full_url = f\"{db_url}{api_key}\"\n",
    "\n",
    "response = requests.get(full_url)\n",
    "\n",
    "# check if request was successful\n",
    "if response.status_code == 200:\n",
    "    print(\"Data fetched successfully.\")\n",
    "    data = response.json()\n",
    "    df = pd.DataFrame(data)\n",
    "else:\n",
    "    print(f\"Failed to fetch data. Status code: {response.status_code}\")"
   ]
  },
  {
   "cell_type": "code",
   "execution_count": 7,
   "metadata": {},
   "outputs": [
    {
     "data": {
      "text/html": [
       "<div>\n",
       "<style scoped>\n",
       "    .dataframe tbody tr th:only-of-type {\n",
       "        vertical-align: middle;\n",
       "    }\n",
       "\n",
       "    .dataframe tbody tr th {\n",
       "        vertical-align: top;\n",
       "    }\n",
       "\n",
       "    .dataframe thead th {\n",
       "        text-align: right;\n",
       "    }\n",
       "</style>\n",
       "<table border=\"1\" class=\"dataframe\">\n",
       "  <thead>\n",
       "    <tr style=\"text-align: right;\">\n",
       "      <th></th>\n",
       "      <th>AverageTime</th>\n",
       "      <th>CurrentTime</th>\n",
       "      <th>Description</th>\n",
       "      <th>Distance</th>\n",
       "      <th>EndPoint</th>\n",
       "      <th>Name</th>\n",
       "      <th>StartPoint</th>\n",
       "      <th>TimeUpdated</th>\n",
       "      <th>TravelTimeID</th>\n",
       "    </tr>\n",
       "  </thead>\n",
       "  <tbody>\n",
       "    <tr>\n",
       "      <th>0</th>\n",
       "      <td>25</td>\n",
       "      <td>25</td>\n",
       "      <td>Everett to Downtown Seattle using HOV lanes</td>\n",
       "      <td>26.72</td>\n",
       "      <td>{'Description': 'I-5 @ University St in Seattl...</td>\n",
       "      <td>Everett-Seattle HOV</td>\n",
       "      <td>{'Description': 'I-5 @ 41st St in Everett', 'D...</td>\n",
       "      <td>/Date(1737524700000-0800)/</td>\n",
       "      <td>2</td>\n",
       "    </tr>\n",
       "    <tr>\n",
       "      <th>1</th>\n",
       "      <td>26</td>\n",
       "      <td>28</td>\n",
       "      <td>Downtown Seattle to Everett using HOV lanes</td>\n",
       "      <td>26.94</td>\n",
       "      <td>{'Description': 'I-5 @ 41st St in Everett', 'D...</td>\n",
       "      <td>Seattle-Everett HOV</td>\n",
       "      <td>{'Description': 'I-5 @ University St in Seattl...</td>\n",
       "      <td>/Date(1737524700000-0800)/</td>\n",
       "      <td>3</td>\n",
       "    </tr>\n",
       "    <tr>\n",
       "      <th>2</th>\n",
       "      <td>26</td>\n",
       "      <td>28</td>\n",
       "      <td>Downtown Seattle to Everett</td>\n",
       "      <td>26.94</td>\n",
       "      <td>{'Description': 'I-5 @ 41st St in Everett', 'D...</td>\n",
       "      <td>Seattle-Everett</td>\n",
       "      <td>{'Description': 'I-5 @ University St in Seattl...</td>\n",
       "      <td>/Date(1737524700000-0800)/</td>\n",
       "      <td>4</td>\n",
       "    </tr>\n",
       "    <tr>\n",
       "      <th>3</th>\n",
       "      <td>9</td>\n",
       "      <td>9</td>\n",
       "      <td>Downtown Bellevue to Issaquah</td>\n",
       "      <td>9.28</td>\n",
       "      <td>{'Description': 'I-90 @ Front St in Issaquah',...</td>\n",
       "      <td>Bellevue-Issaquah</td>\n",
       "      <td>{'Description': 'I-405 @ NE 8th St in Bellevue...</td>\n",
       "      <td>/Date(1737524700000-0800)/</td>\n",
       "      <td>5</td>\n",
       "    </tr>\n",
       "    <tr>\n",
       "      <th>4</th>\n",
       "      <td>9</td>\n",
       "      <td>9</td>\n",
       "      <td>Downtown Bellevue to Issaquah using HOV lanes</td>\n",
       "      <td>9.28</td>\n",
       "      <td>{'Description': 'I-90 @ Front St in Issaquah',...</td>\n",
       "      <td>Bellevue-Issaquah HOV</td>\n",
       "      <td>{'Description': 'I-405 @ NE 8th St in Bellevue...</td>\n",
       "      <td>/Date(1737524700000-0800)/</td>\n",
       "      <td>6</td>\n",
       "    </tr>\n",
       "  </tbody>\n",
       "</table>\n",
       "</div>"
      ],
      "text/plain": [
       "   AverageTime  CurrentTime                                    Description  \\\n",
       "0           25           25    Everett to Downtown Seattle using HOV lanes   \n",
       "1           26           28    Downtown Seattle to Everett using HOV lanes   \n",
       "2           26           28                    Downtown Seattle to Everett   \n",
       "3            9            9                  Downtown Bellevue to Issaquah   \n",
       "4            9            9  Downtown Bellevue to Issaquah using HOV lanes   \n",
       "\n",
       "   Distance                                           EndPoint  \\\n",
       "0     26.72  {'Description': 'I-5 @ University St in Seattl...   \n",
       "1     26.94  {'Description': 'I-5 @ 41st St in Everett', 'D...   \n",
       "2     26.94  {'Description': 'I-5 @ 41st St in Everett', 'D...   \n",
       "3      9.28  {'Description': 'I-90 @ Front St in Issaquah',...   \n",
       "4      9.28  {'Description': 'I-90 @ Front St in Issaquah',...   \n",
       "\n",
       "                    Name                                         StartPoint  \\\n",
       "0    Everett-Seattle HOV  {'Description': 'I-5 @ 41st St in Everett', 'D...   \n",
       "1    Seattle-Everett HOV  {'Description': 'I-5 @ University St in Seattl...   \n",
       "2        Seattle-Everett  {'Description': 'I-5 @ University St in Seattl...   \n",
       "3      Bellevue-Issaquah  {'Description': 'I-405 @ NE 8th St in Bellevue...   \n",
       "4  Bellevue-Issaquah HOV  {'Description': 'I-405 @ NE 8th St in Bellevue...   \n",
       "\n",
       "                  TimeUpdated  TravelTimeID  \n",
       "0  /Date(1737524700000-0800)/             2  \n",
       "1  /Date(1737524700000-0800)/             3  \n",
       "2  /Date(1737524700000-0800)/             4  \n",
       "3  /Date(1737524700000-0800)/             5  \n",
       "4  /Date(1737524700000-0800)/             6  "
      ]
     },
     "execution_count": 7,
     "metadata": {},
     "output_type": "execute_result"
    }
   ],
   "source": [
    "df.head()"
   ]
  },
  {
   "cell_type": "code",
   "execution_count": 9,
   "metadata": {},
   "outputs": [
    {
     "data": {
      "text/plain": [
       "(168, 9)"
      ]
     },
     "execution_count": 9,
     "metadata": {},
     "output_type": "execute_result"
    }
   ],
   "source": [
    "df.shape"
   ]
  },
  {
   "cell_type": "code",
   "execution_count": null,
   "metadata": {},
   "outputs": [],
   "source": []
  }
 ],
 "metadata": {
  "kernelspec": {
   "display_name": "Python 3",
   "language": "python",
   "name": "python3"
  },
  "language_info": {
   "codemirror_mode": {
    "name": "ipython",
    "version": 3
   },
   "file_extension": ".py",
   "mimetype": "text/x-python",
   "name": "python",
   "nbconvert_exporter": "python",
   "pygments_lexer": "ipython3",
   "version": "3.12.2"
  }
 },
 "nbformat": 4,
 "nbformat_minor": 2
}
